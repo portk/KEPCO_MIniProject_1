{
 "cells": [
  {
   "cell_type": "code",
   "execution_count": 7,
   "id": "fa2aa4ed-1370-47b7-b093-6824ec52ecc0",
   "metadata": {
    "tags": []
   },
   "outputs": [],
   "source": [
    "import numpy as np\n",
    "import pandas as pd\n",
    "import warnings\n",
    "import matplotlib.pyplot as plt\n",
    "import pymysql\n",
    "\n",
    "warnings.filterwarnings('ignore')\n",
    "plt.rcParams['font.family'] = 'NanumGothicCoding'\n",
    "plt.rcParams['font.size'] = 12\n",
    "plt.rcParams['figure.dpi'] = 100"
   ]
  },
  {
   "cell_type": "code",
   "execution_count": 1,
   "id": "05f3d66f-2a79-4224-8fb1-f80e0138bb17",
   "metadata": {
    "tags": []
   },
   "outputs": [
    {
     "ename": "NameError",
     "evalue": "name 'pymysql' is not defined",
     "output_type": "error",
     "traceback": [
      "\u001b[1;31m---------------------------------------------------------------------------\u001b[0m",
      "\u001b[1;31mNameError\u001b[0m                                 Traceback (most recent call last)",
      "\u001b[1;32mc:\\Users\\user\\Desktop\\python\\MiniPorject_1\\linked_DB.ipynb 셀 2\u001b[0m line \u001b[0;36m1\n\u001b[1;32m----> <a href='vscode-notebook-cell:/c%3A/Users/user/Desktop/python/MiniPorject_1/linked_DB.ipynb#W1sZmlsZQ%3D%3D?line=0'>1</a>\u001b[0m conn \u001b[39m=\u001b[39m pymysql\u001b[39m.\u001b[39mconnect(user\u001b[39m=\u001b[39m\u001b[39m'\u001b[39m\u001b[39mmini1\u001b[39m\u001b[39m'\u001b[39m, passwd\u001b[39m=\u001b[39m\u001b[39m'\u001b[39m\u001b[39mmini1\u001b[39m\u001b[39m'\u001b[39m, host\u001b[39m=\u001b[39m\u001b[39m'\u001b[39m\u001b[39m127.0.0.1\u001b[39m\u001b[39m'\u001b[39m, db\u001b[39m=\u001b[39m\u001b[39m'\u001b[39m\u001b[39mmini1\u001b[39m\u001b[39m'\u001b[39m, charset\u001b[39m=\u001b[39m\u001b[39m'\u001b[39m\u001b[39mutf8\u001b[39m\u001b[39m'\u001b[39m)\n\u001b[0;32m      <a href='vscode-notebook-cell:/c%3A/Users/user/Desktop/python/MiniPorject_1/linked_DB.ipynb#W1sZmlsZQ%3D%3D?line=1'>2</a>\u001b[0m curs \u001b[39m=\u001b[39m conn\u001b[39m.\u001b[39mcursor(pymysql\u001b[39m.\u001b[39mcursors\u001b[39m.\u001b[39mDictCursor)\n",
      "\u001b[1;31mNameError\u001b[0m: name 'pymysql' is not defined"
     ]
    }
   ],
   "source": [
    "conn = pymysql.connect(user='mini1', passwd='mini1', host='127.0.0.1', db='mini1', charset='utf8')\n",
    "curs = conn.cursor(pymysql.cursors.DictCursor)"
   ]
  },
  {
   "cell_type": "code",
   "execution_count": 20,
   "id": "76fbcc58-2a7b-4fec-a4fb-7a8d316740d2",
   "metadata": {
    "tags": []
   },
   "outputs": [
    {
     "data": {
      "text/plain": [
       "8"
      ]
     },
     "execution_count": 20,
     "metadata": {},
     "output_type": "execute_result"
    }
   ],
   "source": [
    "# 서울\n",
    "sql = \"SELECT * FROM elec WHERE local_id = 11\"\n",
    "curs.execute(sql)\n",
    "datas = curs.fetchall()\n",
    "seoul_df = pd.DataFrame(datas)\n",
    "\n",
    "# 부산\n",
    "sql = \"SELECT * FROM elec WHERE local_id = 21\"\n",
    "curs.execute(sql)\n",
    "datas = curs.fetchall()\n",
    "busan_df = pd.DataFrame(datas)\n",
    "\n",
    "# 대구\n",
    "sql = \"SELECT * FROM elec WHERE local_id = 22\"\n",
    "curs.execute(sql)\n",
    "datas = curs.fetchall()\n",
    "daegu_df = pd.DataFrame(datas)\n",
    "\n",
    "# 인천\n",
    "sql = \"SELECT * FROM elec WHERE local_id = 23\"\n",
    "curs.execute(sql)\n",
    "datas = curs.fetchall()\n",
    "incheon_df = pd.DataFrame(datas)\n",
    "\n",
    "# 광주\n",
    "sql = \"SELECT * FROM elec WHERE local_id = 24\"\n",
    "curs.execute(sql)\n",
    "datas = curs.fetchall()\n",
    "gwangju_df = pd.DataFrame(datas)\n",
    "\n",
    "# 대전\n",
    "sql = \"SELECT * FROM elec WHERE local_id = 25\"\n",
    "curs.execute(sql)\n",
    "datas = curs.fetchall()\n",
    "daejeon_df = pd.DataFrame(datas)\n",
    "\n",
    "# 울산\n",
    "sql = \"SELECT * FROM elec WHERE local_id = 26\"\n",
    "curs.execute(sql)\n",
    "datas = curs.fetchall()\n",
    "ulsan_df = pd.DataFrame(datas)\n",
    "\n",
    "# 세종\n",
    "sql = \"SELECT * FROM elec WHERE local_id = 29\"\n",
    "curs.execute(sql)\n",
    "datas = curs.fetchall()\n",
    "sejong_df = pd.DataFrame(datas)\n",
    "\n",
    "# 세종\n",
    "sql = \"SELECT * FROM elec WHERE local_id = 29\"\n",
    "curs.execute(sql)\n",
    "datas = curs.fetchall()\n",
    "sejong_df = pd.DataFrame(datas)\n",
    "\n",
    "# 경기\n",
    "sql = \"SELECT * FROM elec WHERE local_id = 31\"\n",
    "curs.execute(sql)\n",
    "datas = curs.fetchall()\n",
    "gyeonggi_df = pd.DataFrame(datas)\n",
    "\n",
    "# 강원\n",
    "sql = \"SELECT * FROM elec WHERE local_id = 32\"\n",
    "curs.execute(sql)\n",
    "datas = curs.fetchall()\n",
    "gangwon_df = pd.DataFrame(datas)\n",
    "\n",
    "# 충북\n",
    "sql = \"SELECT * FROM elec WHERE local_id = 33\"\n",
    "curs.execute(sql)\n",
    "datas = curs.fetchall()\n",
    "chungbuk_df = pd.DataFrame(datas)\n",
    "\n",
    "# 충남\n",
    "sql = \"SELECT * FROM elec WHERE local_id = 34\"\n",
    "curs.execute(sql)\n",
    "datas = curs.fetchall()\n",
    "chungnam_df = pd.DataFrame(datas)\n",
    "\n",
    "# 전북\n",
    "sql = \"SELECT * FROM elec WHERE local_id = 35\"\n",
    "curs.execute(sql)\n",
    "datas = curs.fetchall()\n",
    "jeonbuk_df = pd.DataFrame(datas)\n",
    "\n",
    "# 전남\n",
    "sql = \"SELECT * FROM elec WHERE local_id = 36\"\n",
    "curs.execute(sql)\n",
    "datas = curs.fetchall()\n",
    "jeonnam_df = pd.DataFrame(datas)\n",
    "\n",
    "# 경북\n",
    "sql = \"SELECT * FROM elec WHERE local_id = 37\"\n",
    "curs.execute(sql)\n",
    "datas = curs.fetchall()\n",
    "gyeongbuk_df = pd.DataFrame(datas)\n",
    "\n",
    "# 경남\n",
    "sql = \"SELECT * FROM elec WHERE local_id = 38\"\n",
    "curs.execute(sql)\n",
    "datas = curs.fetchall()\n",
    "gyeongnam_df = pd.DataFrame(datas)\n",
    "\n",
    "# 제주\n",
    "sql = \"SELECT * FROM elec WHERE local_id = 39\"\n",
    "curs.execute(sql)\n",
    "datas = curs.fetchall()\n",
    "jeju_df = pd.DataFrame(datas)"
   ]
  },
  {
   "cell_type": "code",
   "execution_count": null,
   "id": "a7d2286e-6eb5-4c35-b123-f9875a288dc1",
   "metadata": {},
   "outputs": [],
   "source": [
    "# conn.close()"
   ]
  }
 ],
 "metadata": {
  "kernelspec": {
   "display_name": "Python 3 (ipykernel)",
   "language": "python",
   "name": "python3"
  },
  "language_info": {
   "codemirror_mode": {
    "name": "ipython",
    "version": 3
   },
   "file_extension": ".py",
   "mimetype": "text/x-python",
   "name": "python",
   "nbconvert_exporter": "python",
   "pygments_lexer": "ipython3",
   "version": "3.11.4"
  }
 },
 "nbformat": 4,
 "nbformat_minor": 5
}
